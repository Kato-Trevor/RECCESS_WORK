{
 "cells": [
  {
   "cell_type": "code",
   "execution_count": 1,
   "id": "12ed7d26",
   "metadata": {},
   "outputs": [
    {
     "name": "stdout",
     "output_type": "stream",
     "text": [
      "CSV and JSON files generated successfully.\n"
     ]
    }
   ],
   "source": [
    "import requests\n",
    "import csv\n",
    "import json\n",
    "from bs4 import BeautifulSoup\n",
    "\n",
    "# Function to fetch bird species data from the website\n",
    "def get_bird_species_data():\n",
    "    url = 'https://xeno-canto.org/collection/species/latest'\n",
    "    response = requests.get(url)\n",
    "    if response.status_code == 200:\n",
    "        soup = BeautifulSoup(response.content, 'html.parser')\n",
    "        species_list = soup.find_all('table', class_='results')\n",
    "        bird_species_data = []\n",
    "        for species_table in species_list:\n",
    "            common_names = species_table.find_all('span', class_='common-name')\n",
    "            sci_names = species_table.find_all('span', class_='sci-name')\n",
    "            for common_name, sci_name in zip(common_names, sci_names):\n",
    "                bird_species_data.append({\n",
    "                    'common_name': common_name.text.strip(),\n",
    "                    'sci_name': sci_name.text.strip()\n",
    "                })\n",
    "        return bird_species_data\n",
    "    else:\n",
    "        print('Failed to fetch data from the website.')\n",
    "        return []\n",
    "\n",
    "# Function to generate CSV file\n",
    "def create_csv_file(data):\n",
    "    csv_filename = 'bird_species.csv'\n",
    "    with open(csv_filename, 'w', newline='', encoding='utf-8') as csvfile:\n",
    "        writer = csv.DictWriter(csvfile, fieldnames=['common_name', 'sci_name'])\n",
    "        writer.writeheader()\n",
    "        writer.writerows(data)\n",
    "\n",
    "# Function to generate JSON file\n",
    "def create_json_file(data):\n",
    "    json_filename = 'bird_species.json'\n",
    "    with open(json_filename, 'w', encoding='utf-8') as jsonfile:\n",
    "        json.dump(data, jsonfile, indent=4, ensure_ascii=False)\n",
    "\n",
    "if __name__ == \"__main__\":\n",
    "    bird_species_data = get_bird_species_data()\n",
    "    if bird_species_data:\n",
    "        create_csv_file(bird_species_data)\n",
    "        create_json_file(bird_species_data)\n",
    "        print('CSV and JSON files generated successfully.')\n"
   ]
  },
  {
   "cell_type": "code",
   "execution_count": null,
   "id": "636d4db9",
   "metadata": {},
   "outputs": [],
   "source": []
  }
 ],
 "metadata": {
  "kernelspec": {
   "display_name": "Python 3 (ipykernel)",
   "language": "python",
   "name": "python3"
  },
  "language_info": {
   "codemirror_mode": {
    "name": "ipython",
    "version": 3
   },
   "file_extension": ".py",
   "mimetype": "text/x-python",
   "name": "python",
   "nbconvert_exporter": "python",
   "pygments_lexer": "ipython3",
   "version": "3.9.13"
  }
 },
 "nbformat": 4,
 "nbformat_minor": 5
}
