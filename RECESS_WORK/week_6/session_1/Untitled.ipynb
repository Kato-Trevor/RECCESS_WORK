{
 "cells": [
  {
   "cell_type": "code",
   "execution_count": 1,
   "id": "50d73a5e",
   "metadata": {},
   "outputs": [
    {
     "data": {
      "text/plain": [
       "'summary\\n1. Image processing\\n2. Speech recognition\\n3. Fraud detection\\n\\nApproaches to Machine learning \\n1. Supervised Learning: dataset that is labelled, predict, Linear regression,\\ndecision tree, support vector machines, neural networks(Supervised Learning Algorithm)\\n2. Unsupervised Learning: deals with unlabelled data, clustering algorthms to group data together\\nk-means clustering, hierarchical clustering, PCA(Principal Component Analysis)\\n3. Reinforcement Learning\\n\\nProblem Formulation!\\nDefine the problem! Calssification Task, Regression Analysis, clustering, anomaly detection,\\nrecommendation. \\n2. Gather the data\\n3. Split the data\\n\\nData types\\ncategories of data\\n1. Numerical data can be discrete(Integers) or continuous(infinite values)\\n2. categorical can be measured against each other\\n3. Ordinal, measure against each other\\n'"
      ]
     },
     "execution_count": 1,
     "metadata": {},
     "output_type": "execute_result"
    }
   ],
   "source": [
    "# introduction to machine learning\n",
    "# algorithms, models that help computer to larn and predict\n",
    "# aapplications of machine learning\n",
    "\"\"\"summary\n",
    "1. Image processing\n",
    "2. Speech recognition\n",
    "3. Fraud detection\n",
    "\n",
    "Approaches to Machine learning \n",
    "1. Supervised Learning: dataset that is labelled, predict, Linear regression,\n",
    "decision tree, support vector machines, neural networks(Supervised Learning Algorithm)\n",
    "2. Unsupervised Learning: deals with unlabelled data, clustering algorthms to group data together\n",
    "k-means clustering, hierarchical clustering, PCA(Principal Component Analysis)\n",
    "3. Reinforcement Learning\n",
    "\n",
    "Problem Formulation!\n",
    "Define the problem! Calssification Task, Regression Analysis, clustering, anomaly detection,\n",
    "recommendation. \n",
    "2. Gather the data\n",
    "3. Split the data\n",
    "\n",
    "Data types\n",
    "categories of data\n",
    "1. Numerical data can be discrete(Integers) or continuous(infinite values)\n",
    "2. categorical can be measured against each other\n",
    "3. Ordinal, measure against each other\n",
    "\"\"\"\n",
    "\n"
   ]
  },
  {
   "cell_type": "code",
   "execution_count": 2,
   "id": "eb6be0d4",
   "metadata": {},
   "outputs": [
    {
     "name": "stdout",
     "output_type": "stream",
     "text": [
      "1.0.2\n"
     ]
    }
   ],
   "source": [
    "import sklearn\n",
    "\n",
    "print(sklearn.__version__)"
   ]
  },
  {
   "cell_type": "code",
   "execution_count": 8,
   "id": "4577638b",
   "metadata": {},
   "outputs": [],
   "source": [
    "import numpy as np # linear algebra\n",
    "import pandas as pd # data processing, CSV file( pd.read_csv)\n",
    "import matplotlib.pyplot as plt # plotting / data visualization\n",
    "import seaborn as sns\n",
    "%matplotlib inline \n",
    "\n",
    "# ML for regression\n",
    "from sklearn.linear_model import LogisticRegression\n",
    "from sklearn.model_selection import train_test_split\n",
    "\n",
    "\n",
    "#ignore warnings\n",
    "import warnings\n",
    "warnings.filterwarnings('ignore')"
   ]
  },
  {
   "cell_type": "code",
   "execution_count": 9,
   "id": "ab9ced65",
   "metadata": {},
   "outputs": [
    {
     "data": {
      "text/html": [
       "<div>\n",
       "<style scoped>\n",
       "    .dataframe tbody tr th:only-of-type {\n",
       "        vertical-align: middle;\n",
       "    }\n",
       "\n",
       "    .dataframe tbody tr th {\n",
       "        vertical-align: top;\n",
       "    }\n",
       "\n",
       "    .dataframe thead th {\n",
       "        text-align: right;\n",
       "    }\n",
       "</style>\n",
       "<table border=\"1\" class=\"dataframe\">\n",
       "  <thead>\n",
       "    <tr style=\"text-align: right;\">\n",
       "      <th></th>\n",
       "      <th>age</th>\n",
       "      <th>sex</th>\n",
       "      <th>cp</th>\n",
       "      <th>trestbps</th>\n",
       "      <th>chol</th>\n",
       "      <th>fbs</th>\n",
       "      <th>restecg</th>\n",
       "      <th>thalach</th>\n",
       "      <th>exang</th>\n",
       "      <th>oldpeak</th>\n",
       "      <th>slope</th>\n",
       "      <th>ca</th>\n",
       "      <th>thal</th>\n",
       "      <th>target</th>\n",
       "    </tr>\n",
       "  </thead>\n",
       "  <tbody>\n",
       "    <tr>\n",
       "      <th>0</th>\n",
       "      <td>52</td>\n",
       "      <td>1</td>\n",
       "      <td>0</td>\n",
       "      <td>125</td>\n",
       "      <td>212</td>\n",
       "      <td>0</td>\n",
       "      <td>1</td>\n",
       "      <td>168</td>\n",
       "      <td>0</td>\n",
       "      <td>1.0</td>\n",
       "      <td>2</td>\n",
       "      <td>2</td>\n",
       "      <td>3</td>\n",
       "      <td>0</td>\n",
       "    </tr>\n",
       "    <tr>\n",
       "      <th>1</th>\n",
       "      <td>53</td>\n",
       "      <td>1</td>\n",
       "      <td>0</td>\n",
       "      <td>140</td>\n",
       "      <td>203</td>\n",
       "      <td>1</td>\n",
       "      <td>0</td>\n",
       "      <td>155</td>\n",
       "      <td>1</td>\n",
       "      <td>3.1</td>\n",
       "      <td>0</td>\n",
       "      <td>0</td>\n",
       "      <td>3</td>\n",
       "      <td>0</td>\n",
       "    </tr>\n",
       "    <tr>\n",
       "      <th>2</th>\n",
       "      <td>70</td>\n",
       "      <td>1</td>\n",
       "      <td>0</td>\n",
       "      <td>145</td>\n",
       "      <td>174</td>\n",
       "      <td>0</td>\n",
       "      <td>1</td>\n",
       "      <td>125</td>\n",
       "      <td>1</td>\n",
       "      <td>2.6</td>\n",
       "      <td>0</td>\n",
       "      <td>0</td>\n",
       "      <td>3</td>\n",
       "      <td>0</td>\n",
       "    </tr>\n",
       "    <tr>\n",
       "      <th>3</th>\n",
       "      <td>61</td>\n",
       "      <td>1</td>\n",
       "      <td>0</td>\n",
       "      <td>148</td>\n",
       "      <td>203</td>\n",
       "      <td>0</td>\n",
       "      <td>1</td>\n",
       "      <td>161</td>\n",
       "      <td>0</td>\n",
       "      <td>0.0</td>\n",
       "      <td>2</td>\n",
       "      <td>1</td>\n",
       "      <td>3</td>\n",
       "      <td>0</td>\n",
       "    </tr>\n",
       "    <tr>\n",
       "      <th>4</th>\n",
       "      <td>62</td>\n",
       "      <td>0</td>\n",
       "      <td>0</td>\n",
       "      <td>138</td>\n",
       "      <td>294</td>\n",
       "      <td>1</td>\n",
       "      <td>1</td>\n",
       "      <td>106</td>\n",
       "      <td>0</td>\n",
       "      <td>1.9</td>\n",
       "      <td>1</td>\n",
       "      <td>3</td>\n",
       "      <td>2</td>\n",
       "      <td>0</td>\n",
       "    </tr>\n",
       "  </tbody>\n",
       "</table>\n",
       "</div>"
      ],
      "text/plain": [
       "   age  sex  cp  trestbps  chol  fbs  restecg  thalach  exang  oldpeak  slope  \\\n",
       "0   52    1   0       125   212    0        1      168      0      1.0      2   \n",
       "1   53    1   0       140   203    1        0      155      1      3.1      0   \n",
       "2   70    1   0       145   174    0        1      125      1      2.6      0   \n",
       "3   61    1   0       148   203    0        1      161      0      0.0      2   \n",
       "4   62    0   0       138   294    1        1      106      0      1.9      1   \n",
       "\n",
       "   ca  thal  target  \n",
       "0   2     3       0  \n",
       "1   0     3       0  \n",
       "2   0     3       0  \n",
       "3   1     3       0  \n",
       "4   3     2       0  "
      ]
     },
     "execution_count": 9,
     "metadata": {},
     "output_type": "execute_result"
    }
   ],
   "source": [
    "# read the dataset\n",
    "df = pd.read_csv(\"C:/Users/USER/RECESS/datasets/heart_disease.csv\")\n",
    "df.head() # first five rows"
   ]
  },
  {
   "cell_type": "code",
   "execution_count": 10,
   "id": "7d14df6f",
   "metadata": {},
   "outputs": [
    {
     "data": {
      "text/plain": [
       "'\\ncp = chest pain\\ntrestbps = resting blood pressure\\nfbs = fasting blood sugar\\nchol = cholesterol\\nrestecg = resting electrocardiography\\nexang = exercise induced agina\\noldpeak = ST depression induced\\nslope = the slope of the peak exercise\\nca = number of major vessel\\nthal = normal, fexied defect, reversible defect\\ntarget = have disease or not (1=yes, 0=no) \\n'"
      ]
     },
     "execution_count": 10,
     "metadata": {},
     "output_type": "execute_result"
    }
   ],
   "source": [
    "\"\"\"\n",
    "cp = chest pain\n",
    "trestbps = resting blood pressure\n",
    "fbs = fasting blood sugar\n",
    "chol = cholesterol\n",
    "restecg = resting electrocardiography\n",
    "exang = exercise induced agina\n",
    "oldpeak = ST depression induced\n",
    "slope = the slope of the peak exercise\n",
    "ca = number of major vessel\n",
    "thal = normal, fexied defect, reversible defect\n",
    "target = have disease or not (1=yes, 0=no) \n",
    "\"\"\""
   ]
  },
  {
   "cell_type": "code",
   "execution_count": 11,
   "id": "af1af7ae",
   "metadata": {},
   "outputs": [
    {
     "data": {
      "text/plain": [
       "1    526\n",
       "0    499\n",
       "Name: target, dtype: int64"
      ]
     },
     "execution_count": 11,
     "metadata": {},
     "output_type": "execute_result"
    }
   ],
   "source": [
    "#show number of people with heart disease\n",
    "df.target.value_counts()"
   ]
  },
  {
   "cell_type": "code",
   "execution_count": 15,
   "id": "73275b4f",
   "metadata": {},
   "outputs": [
    {
     "name": "stdout",
     "output_type": "stream",
     "text": [
      "Percentage of female patients: 0.30%Percentage of female patients: 0.30%Percentage of female patients: 0.30%Percentage of female patients: 0.30%Percentage of female patients: 0.30%Percentage of female patients: 0.30%Percentage of female patients: 0.30%Percentage of female patients: 0.30%Percentage of female patients: 0.30%Percentage of female patients: 0.30%Percentage of female patients: 0.30%Percentage of female patients: 0.30%Percentage of female patients: 0.30%Percentage of female patients: 0.30%Percentage of female patients: 0.30%Percentage of female patients: 0.30%Percentage of female patients: 0.30%Percentage of female patients: 0.30%Percentage of female patients: 0.30%Percentage of female patients: 0.30%Percentage of female patients: 0.30%Percentage of female patients: 0.30%Percentage of female patients: 0.30%Percentage of female patients: 0.30%Percentage of female patients: 0.30%Percentage of female patients: 0.30%Percentage of female patients: 0.30%Percentage of female patients: 0.30%Percentage of female patients: 0.30%Percentage of female patients: 0.30%Percentage of female patients: 0.30%Percentage of female patients: 0.30%Percentage of female patients: 0.30%Percentage of female patients: 0.30%Percentage of female patients: 0.30%Percentage of female patients: 0.30%Percentage of female patients: 0.30%Percentage of female patients: 0.30%Percentage of female patients: 0.30%Percentage of female patients: 0.30%Percentage of female patients: 0.30%Percentage of female patients: 0.30%Percentage of female patients: 0.30%Percentage of female patients: 0.30%Percentage of female patients: 0.30%Percentage of female patients: 0.30%Percentage of female patients: 0.30%Percentage of female patients: 0.30%Percentage of female patients: 0.30%Percentage of female patients: 0.30%Percentage of female patients: 0.30%Percentage of female patients: 0.30%Percentage of female patients: 0.30%Percentage of female patients: 0.30%Percentage of female patients: 0.30%Percentage of female patients: 0.30%Percentage of female patients: 0.30%Percentage of female patients: 0.30%Percentage of female patients: 0.30%Percentage of female patients: 0.30%Percentage of female patients: 0.30%Percentage of female patients: 0.30%Percentage of female patients: 0.30%Percentage of female patients: 0.30%Percentage of female patients: 0.30%Percentage of female patients: 0.30%Percentage of female patients: 0.30%Percentage of female patients: 0.30%Percentage of female patients: 0.30%Percentage of female patients: 0.30%Percentage of female patients: 0.30%Percentage of female patients: 0.30%Percentage of female patients: 0.30%Percentage of female patients: 0.30%Percentage of female patients: 0.30%Percentage of female patients: 0.30%Percentage of female patients: 0.30%Percentage of female patients: 0.30%Percentage of female patients: 0.30%Percentage of female patients: 0.30%Percentage of female patients: 0.30%Percentage of female patients: 0.30%Percentage of female patients: 0.30%Percentage of female patients: 0.30%Percentage of female patients: 0.30%Percentage of female patients: 0.30%Percentage of female patients: 0.30%Percentage of female patients: 0.30%Percentage of female patients: 0.30%Percentage of female patients: 0.30%Percentage of female patients: 0.30%Percentage of female patients: 0.30%Percentage of female patients: 0.30%Percentage of female patients: 0.30%Percentage of female patients: 0.30%Percentage of female patients: 0.30%Percentage of female patients: 0.30%Percentage of female patients: 0.30%Percentage of female patients: 0.30%Percentage of female patients: 0.30%\n",
      "Percentage of male patients: 0.70%Percentage of male patients: 0.70%Percentage of male patients: 0.70%Percentage of male patients: 0.70%Percentage of male patients: 0.70%Percentage of male patients: 0.70%Percentage of male patients: 0.70%Percentage of male patients: 0.70%Percentage of male patients: 0.70%Percentage of male patients: 0.70%Percentage of male patients: 0.70%Percentage of male patients: 0.70%Percentage of male patients: 0.70%Percentage of male patients: 0.70%Percentage of male patients: 0.70%Percentage of male patients: 0.70%Percentage of male patients: 0.70%Percentage of male patients: 0.70%Percentage of male patients: 0.70%Percentage of male patients: 0.70%Percentage of male patients: 0.70%Percentage of male patients: 0.70%Percentage of male patients: 0.70%Percentage of male patients: 0.70%Percentage of male patients: 0.70%Percentage of male patients: 0.70%Percentage of male patients: 0.70%Percentage of male patients: 0.70%Percentage of male patients: 0.70%Percentage of male patients: 0.70%Percentage of male patients: 0.70%Percentage of male patients: 0.70%Percentage of male patients: 0.70%Percentage of male patients: 0.70%Percentage of male patients: 0.70%Percentage of male patients: 0.70%Percentage of male patients: 0.70%Percentage of male patients: 0.70%Percentage of male patients: 0.70%Percentage of male patients: 0.70%Percentage of male patients: 0.70%Percentage of male patients: 0.70%Percentage of male patients: 0.70%Percentage of male patients: 0.70%Percentage of male patients: 0.70%Percentage of male patients: 0.70%Percentage of male patients: 0.70%Percentage of male patients: 0.70%Percentage of male patients: 0.70%Percentage of male patients: 0.70%Percentage of male patients: 0.70%Percentage of male patients: 0.70%Percentage of male patients: 0.70%Percentage of male patients: 0.70%Percentage of male patients: 0.70%Percentage of male patients: 0.70%Percentage of male patients: 0.70%Percentage of male patients: 0.70%Percentage of male patients: 0.70%Percentage of male patients: 0.70%Percentage of male patients: 0.70%Percentage of male patients: 0.70%Percentage of male patients: 0.70%Percentage of male patients: 0.70%Percentage of male patients: 0.70%Percentage of male patients: 0.70%Percentage of male patients: 0.70%Percentage of male patients: 0.70%Percentage of male patients: 0.70%Percentage of male patients: 0.70%Percentage of male patients: 0.70%Percentage of male patients: 0.70%Percentage of male patients: 0.70%Percentage of male patients: 0.70%Percentage of male patients: 0.70%Percentage of male patients: 0.70%Percentage of male patients: 0.70%Percentage of male patients: 0.70%Percentage of male patients: 0.70%Percentage of male patients: 0.70%Percentage of male patients: 0.70%Percentage of male patients: 0.70%Percentage of male patients: 0.70%Percentage of male patients: 0.70%Percentage of male patients: 0.70%Percentage of male patients: 0.70%Percentage of male patients: 0.70%Percentage of male patients: 0.70%Percentage of male patients: 0.70%Percentage of male patients: 0.70%Percentage of male patients: 0.70%Percentage of male patients: 0.70%Percentage of male patients: 0.70%Percentage of male patients: 0.70%Percentage of male patients: 0.70%Percentage of male patients: 0.70%Percentage of male patients: 0.70%Percentage of male patients: 0.70%Percentage of male patients: 0.70%Percentage of male patients: 0.70%\n"
     ]
    }
   ],
   "source": [
    "# show percentage of male and female\n",
    "count_female = len(df[df.sex == 0])\n",
    "count_male = len(df[df.sex == 1])\n",
    "#show output\n",
    "print('Percentage of female patients: {:.2f}%'.format(count_female/len(df.sex))*100)\n",
    "print('Percentage of male patients: {:.2f}%'.format(count_male/len(df.sex))*100)\n"
   ]
  },
  {
   "cell_type": "code",
   "execution_count": 16,
   "id": "e0f7ebf6",
   "metadata": {},
   "outputs": [
    {
     "data": {
      "text/html": [
       "<div>\n",
       "<style scoped>\n",
       "    .dataframe tbody tr th:only-of-type {\n",
       "        vertical-align: middle;\n",
       "    }\n",
       "\n",
       "    .dataframe tbody tr th {\n",
       "        vertical-align: top;\n",
       "    }\n",
       "\n",
       "    .dataframe thead th {\n",
       "        text-align: right;\n",
       "    }\n",
       "</style>\n",
       "<table border=\"1\" class=\"dataframe\">\n",
       "  <thead>\n",
       "    <tr style=\"text-align: right;\">\n",
       "      <th></th>\n",
       "      <th>age</th>\n",
       "      <th>sex</th>\n",
       "      <th>cp</th>\n",
       "      <th>trestbps</th>\n",
       "      <th>chol</th>\n",
       "      <th>fbs</th>\n",
       "      <th>restecg</th>\n",
       "      <th>thalach</th>\n",
       "      <th>exang</th>\n",
       "      <th>oldpeak</th>\n",
       "      <th>slope</th>\n",
       "      <th>ca</th>\n",
       "      <th>thal</th>\n",
       "    </tr>\n",
       "    <tr>\n",
       "      <th>target</th>\n",
       "      <th></th>\n",
       "      <th></th>\n",
       "      <th></th>\n",
       "      <th></th>\n",
       "      <th></th>\n",
       "      <th></th>\n",
       "      <th></th>\n",
       "      <th></th>\n",
       "      <th></th>\n",
       "      <th></th>\n",
       "      <th></th>\n",
       "      <th></th>\n",
       "      <th></th>\n",
       "    </tr>\n",
       "  </thead>\n",
       "  <tbody>\n",
       "    <tr>\n",
       "      <th>0</th>\n",
       "      <td>56.569138</td>\n",
       "      <td>0.827655</td>\n",
       "      <td>0.482966</td>\n",
       "      <td>134.106212</td>\n",
       "      <td>251.292585</td>\n",
       "      <td>0.164329</td>\n",
       "      <td>0.456914</td>\n",
       "      <td>139.130261</td>\n",
       "      <td>0.549098</td>\n",
       "      <td>1.600200</td>\n",
       "      <td>1.166333</td>\n",
       "      <td>1.158317</td>\n",
       "      <td>2.539078</td>\n",
       "    </tr>\n",
       "    <tr>\n",
       "      <th>1</th>\n",
       "      <td>52.408745</td>\n",
       "      <td>0.570342</td>\n",
       "      <td>1.378327</td>\n",
       "      <td>129.245247</td>\n",
       "      <td>240.979087</td>\n",
       "      <td>0.134981</td>\n",
       "      <td>0.598859</td>\n",
       "      <td>158.585551</td>\n",
       "      <td>0.134981</td>\n",
       "      <td>0.569962</td>\n",
       "      <td>1.593156</td>\n",
       "      <td>0.370722</td>\n",
       "      <td>2.119772</td>\n",
       "    </tr>\n",
       "  </tbody>\n",
       "</table>\n",
       "</div>"
      ],
      "text/plain": [
       "              age       sex        cp    trestbps        chol       fbs  \\\n",
       "target                                                                    \n",
       "0       56.569138  0.827655  0.482966  134.106212  251.292585  0.164329   \n",
       "1       52.408745  0.570342  1.378327  129.245247  240.979087  0.134981   \n",
       "\n",
       "         restecg     thalach     exang   oldpeak     slope        ca      thal  \n",
       "target                                                                          \n",
       "0       0.456914  139.130261  0.549098  1.600200  1.166333  1.158317  2.539078  \n",
       "1       0.598859  158.585551  0.134981  0.569962  1.593156  0.370722  2.119772  "
      ]
     },
     "execution_count": 16,
     "metadata": {},
     "output_type": "execute_result"
    }
   ],
   "source": [
    "df.groupby('target').mean()"
   ]
  },
  {
   "cell_type": "code",
   "execution_count": 18,
   "id": "d887b52f",
   "metadata": {},
   "outputs": [
    {
     "data": {
      "image/png": "[encoded data removed]",
      "text/plain": [
       "<Figure size 2000x600 with 1 Axes>"
      ]
     },
     "metadata": {},
     "output_type": "display_data"
    }
   ],
   "source": [
    "#barplot showing hert disease frequency of age\n",
    "pd.crosstab(df.age, df.target).plot(kind='bar', figsize=(20,6))\n",
    "plt.title('Heart Disease Frequency for Ages')\n",
    "plt.xlabel('Age')\n",
    "plt.ylabel('Fequency')\n",
    "plt.show()"
   ]
  },
  {
   "cell_type": "code",
   "execution_count": 22,
   "id": "67ac5fc3",
   "metadata": {},
   "outputs": [
    {
     "data": {
      "image/png": "[encoded data removed]",
      "text/plain": [
       "<Figure size 2000x600 with 1 Axes>"
      ]
     },
     "metadata": {},
     "output_type": "display_data"
    }
   ],
   "source": [
    "# data visualization of heart disease frequency\n",
    "pd.crosstab(df.sex, df.target).plot(kind='bar', figsize=(20,6), color = ['#228B22', '#6F8FAF'])\n",
    "plt.title('Heart Disease Frequency for Sex')\n",
    "plt.xlabel('Sex (0 = Female, 1 = Male)')\n",
    "plt.legend(['Have disease', 'No Disease'])\n",
    "plt.ylabel('Fequency')\n",
    "plt.xticks(rotation=0)\n",
    "plt.show()"
   ]
  },
  {
   "cell_type": "code",
   "execution_count": 24,
   "id": "ac9c0310",
   "metadata": {},
   "outputs": [
    {
     "data": {
      "image/png": "[encoded data removed]",
      "text/plain": [
       "<Figure size 640x480 with 1 Axes>"
      ]
     },
     "metadata": {},
     "output_type": "display_data"
    }
   ],
   "source": [
    "# Create scatter plot\n",
    "plt.scatter(df.chol, df.trestbps)\n",
    "\n",
    "# Set labels and title\n",
    "plt.xlabel('chol')\n",
    "plt.ylabel('trestbps')\n",
    "plt.title('Scatter Plot')\n",
    "\n",
    "# Display the plot\n",
    "plt.show()"
   ]
  },
  {
   "cell_type": "code",
   "execution_count": 25,
   "id": "21e6950c",
   "metadata": {},
   "outputs": [],
   "source": [
    "# working with ML model accuracy of different ML models\n",
    "# create model for logistic Regression\n",
    "# solve problems based on classification. create independent variables and dependent variables\n",
    "#categorical prediction"
   ]
  },
  {
   "cell_type": "code",
   "execution_count": 27,
   "id": "3b78bc59",
   "metadata": {},
   "outputs": [],
   "source": [
    "#research decision trees, logistic regression, normalisation\n",
    "# creating a model for logistics regression\n",
    "y = df.target.values\n",
    "x_data = df.drop(['target'], axis = 1)"
   ]
  },
  {
   "cell_type": "code",
   "execution_count": 29,
   "id": "92fbf66f",
   "metadata": {},
   "outputs": [],
   "source": [
    "# normalize the data , split our data for training and testing\n",
    "# 80% training,20% testing\n",
    "#naoemalize the data X=(X-Xmin)/(Xmax-Xmin)\n",
    "x = (x_data - np.min(x_data)) / (np.max(x_data) - np.min(x_data))"
   ]
  },
  {
   "cell_type": "code",
   "execution_count": 30,
   "id": "ff2fc9e8",
   "metadata": {},
   "outputs": [
    {
     "ename": "NameError",
     "evalue": "name 'x_train' is not defined",
     "output_type": "error",
     "traceback": [
      "\u001b[1;31m---------------------------------------------------------------------------\u001b[0m",
      "\u001b[1;31mNameError\u001b[0m                                 Traceback (most recent call last)",
      "\u001b[1;32m~\\AppData\\Local\\Temp\\ipykernel_11660\\1805642883.py\u001b[0m in \u001b[0;36m<module>\u001b[1;34m\u001b[0m\n\u001b[0;32m      1\u001b[0m \u001b[1;31m#Transpose matrices\u001b[0m\u001b[1;33m\u001b[0m\u001b[1;33m\u001b[0m\u001b[0m\n\u001b[1;32m----> 2\u001b[1;33m \u001b[0mx_train\u001b[0m \u001b[1;33m=\u001b[0m \u001b[0mx_train\u001b[0m\u001b[1;33m.\u001b[0m\u001b[0mT\u001b[0m\u001b[1;33m\u001b[0m\u001b[1;33m\u001b[0m\u001b[0m\n\u001b[0m\u001b[0;32m      3\u001b[0m \u001b[0my_train\u001b[0m \u001b[1;33m=\u001b[0m \u001b[0my_train\u001b[0m\u001b[1;33m.\u001b[0m\u001b[0mT\u001b[0m\u001b[1;33m\u001b[0m\u001b[1;33m\u001b[0m\u001b[0m\n\u001b[0;32m      4\u001b[0m \u001b[0mx_test\u001b[0m \u001b[1;33m=\u001b[0m \u001b[0mx_test\u001b[0m\u001b[1;33m.\u001b[0m\u001b[0mT\u001b[0m\u001b[1;33m\u001b[0m\u001b[1;33m\u001b[0m\u001b[0m\n\u001b[0;32m      5\u001b[0m \u001b[0my_test\u001b[0m \u001b[1;33m=\u001b[0m \u001b[0my_test\u001b[0m\u001b[1;33m.\u001b[0m\u001b[0mT\u001b[0m\u001b[1;33m\u001b[0m\u001b[1;33m\u001b[0m\u001b[0m\n",
      "\u001b[1;31mNameError\u001b[0m: name 'x_train' is not defined"
     ]
    }
   ],
   "source": [
    "#Transpose matrices\n",
    "x_train = x_train.T\n",
    "y_train = y_train.T\n",
    "x_test = x_test.T\n",
    "y_test = y_test.T"
   ]
  },
  {
   "cell_type": "code",
   "execution_count": null,
   "id": "67d06834",
   "metadata": {},
   "outputs": [],
   "source": []
  }
 ],
 "metadata": {
  "kernelspec": {
   "display_name": "Python 3 (ipykernel)",
   "language": "python",
   "name": "python3"
  },
  "language_info": {
   "codemirror_mode": {
    "name": "ipython",
    "version": 3
   },
   "file_extension": ".py",
   "mimetype": "text/x-python",
   "name": "python",
   "nbconvert_exporter": "python",
   "pygments_lexer": "ipython3",
   "version": "3.9.13"
  }
 },
 "nbformat": 4,
 "nbformat_minor": 5
}
